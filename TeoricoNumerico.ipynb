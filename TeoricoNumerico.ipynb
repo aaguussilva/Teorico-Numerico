{
 "cells": [
  {
   "cell_type": "markdown",
   "id": "0f36bb52",
   "metadata": {},
   "source": [
    "# **Índice**   \n",
    "- [Unidad 1: Análisis de Errores](#Unidad-1:-Análisis-de-Errores)\n",
    "- [Unidad 2: Ecuaciones no Lineales](#Unidad-2:-Ecuaciones-no-Lineales)\n",
    "- [Unidad 3: Interpolación Numérica](#Unidad-3:-Interpolación-Numérica)\n",
    "- [Unidad 4: Aproximación de Funciones](#Unidad-4:-Aproximación-de-Funciones)\n",
    "- [Unidad 5: Integración Numérica](#Unidad-5:-Integración-Numérica)\n",
    "- [Unidad 6: Ecuaciones Lineales](#Unidad-6:-Ecuaciones-Lineales)\n",
    "- [Unidad 7: Programación Lineal](#Unidad-7:-Programación-Lineal)\n"
   ]
  },
  {
   "cell_type": "markdown",
   "id": "50c3e8d6",
   "metadata": {},
   "source": [
    "# Unidad 1: Análisis de Errores\n",
    "### Teorema de Valor Intermedio y Valor Medio\n",
    "<img src=\"./img/Unidad 1/valorMedio.PNG\" width=\"700\"/>\n",
    "\n",
    "### Teorema de Taylor\n",
    "<img src=\"./img/Unidad 1/taylor.PNG\" width=\"700\"/>\n",
    "\n",
    "### Teorema de Taylor con resto integral\n",
    "<img src=\"./img/Unidad 1/taylorResto.PNG\" width=\"700\"/>\n",
    "\n",
    "### Ordenes de Convergencia de sucesiones\n",
    "<img src=\"./img/Unidad 1/convergSuc.PNG\" width=\"700\"/>\n",
    "\n",
    "### Notación \"O\" grande y \"o\" chica\n",
    "<img src=\"./img/Unidad 1/notacionO1.PNG\" width=\"700\"/><br>\n",
    "<img src=\"./img/Unidad 1/notacionO2.PNG\" width=\"700\"/><br>\n",
    "<img src=\"./img/Unidad 1/notacionO3.PNG\" width=\"700\"/>\n",
    "\n",
    "### Algoritmo de Horner\n",
    "<img src=\"./img/Unidad 1/horner.PNG\" width=\"700\"/>\n",
    "\n",
    "### Errores absolutos y relativos\n",
    "<img src=\"./img/Unidad 1/errorAbsRel.PNG\" width=\"700\"/>"
   ]
  },
  {
   "cell_type": "markdown",
   "id": "77c15943",
   "metadata": {},
   "source": [
    "# Unidad 2: Ecuaciones no Lineales\n",
    "\n",
    "## Método de Bisección\n",
    "<img src=\"./img/Unidad 2/bisec1.PNG\" width=\"700\"/><br>\n",
    "<img src=\"./img/Unidad 2/bisec2.PNG\" width=\"700\"/><br>\n",
    "<img src=\"./img/Unidad 2/bisec3.PNG\" width=\"700\"/>\n",
    "\n",
    "### Teorema de existencia de límites en Bisección\n",
    "<img src=\"./img/Unidad 2/teobisec.PNG\" width=\"700\"/>\n",
    "\n",
    "## Método de Newton\n",
    "<img src=\"./img/Unidad 2/newton1.PNG\" width=\"700\"/>\n",
    "\n",
    "### Teorema convergencia cuadrática de la sucesión generada por el método de Newton\n",
    "<img src=\"./img/Unidad 2/teoNewton.PNG\" width=\"700\"/><br>\n",
    "<img src=\"./img/Unidad 2/teoNewton1.PNG\" width=\"700\"/><br>\n",
    "<img src=\"./img/Unidad 2/teoNewton2.PNG\" width=\"700\"/>\n",
    "\n",
    "## Método de la Secante\n",
    "<img src=\"./img/Unidad 2/secante.PNG\" width=\"700\"/>\n",
    "\n",
    "## Iteración de punto fijo\n",
    "<img src=\"./img/Unidad 2/defPF.PNG\" width=\"700\"/>\n",
    "\n",
    "### Teorema de existencia y unicidad del Punto Fijo\n",
    "<img src=\"./img/Unidad 2/teoPF.PNG\" width=\"700\"/><br>\n",
    "<img src=\"./img/Unidad 2/teoPF1.PNG\" width=\"700\"/>\n",
    "\n",
    "### Teorema convergencia a un único Punto Fijo\n",
    "<img src=\"./img/Unidad 2/teoPF2.PNG\" width=\"700\"/>\n",
    "\n",
    "### Corolario 2\n",
    "<img src=\"./img/Unidad 2/coro1.PNG\" width=\"700\"/>\n",
    "\n",
    "### Corolario 3\n",
    "<img src=\"./img/Unidad 2/coro2.PNG\" width=\"700\"/><br>\n",
    "<img src=\"./img/Unidad 2/coro3.PNG\" width=\"700\"/>\n",
    "\n",
    "### Corolario 4\n",
    "<img src=\"./img/Unidad 2/coro4.PNG\" width=\"700\"/>"
   ]
  }
 ],
 "metadata": {
  "kernelspec": {
   "display_name": "Python 3 (ipykernel)",
   "language": "python",
   "name": "python3"
  },
  "language_info": {
   "codemirror_mode": {
    "name": "ipython",
    "version": 3
   },
   "file_extension": ".py",
   "mimetype": "text/x-python",
   "name": "python",
   "nbconvert_exporter": "python",
   "pygments_lexer": "ipython3",
   "version": "3.10.5"
  }
 },
 "nbformat": 4,
 "nbformat_minor": 5
}
